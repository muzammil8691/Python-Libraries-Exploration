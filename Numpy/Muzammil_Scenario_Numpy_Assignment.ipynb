{
 "cells": [
  {
   "cell_type": "markdown",
   "metadata": {},
   "source": [
    "## **Muhammad Muzammil**\n",
    "\n",
    "Numpy Scenario Assignment\n",
    "\n",
    "____________________________________________________________________________________________________________________\n"
   ]
  },
  {
   "cell_type": "markdown",
   "metadata": {},
   "source": [
    "Q1. Sales Data Analysis: You have a NumPy array representing the daily sales of a product over a month. Each element in the array represents the sales for a particular day. Compute the total sales, average sales, and the day with the highest sales.\n"
   ]
  },
  {
   "cell_type": "code",
   "execution_count": 2,
   "metadata": {},
   "outputs": [
    {
     "data": {
      "text/plain": [
       "array([[44],\n",
       "       [28],\n",
       "       [26],\n",
       "       [42],\n",
       "       [30],\n",
       "       [47],\n",
       "       [43],\n",
       "       [23],\n",
       "       [37],\n",
       "       [27],\n",
       "       [48],\n",
       "       [46],\n",
       "       [21],\n",
       "       [23],\n",
       "       [46],\n",
       "       [44],\n",
       "       [44],\n",
       "       [40],\n",
       "       [26],\n",
       "       [21],\n",
       "       [36],\n",
       "       [34],\n",
       "       [31],\n",
       "       [35],\n",
       "       [44],\n",
       "       [33],\n",
       "       [28],\n",
       "       [47],\n",
       "       [32],\n",
       "       [27]], dtype=int32)"
      ]
     },
     "execution_count": 2,
     "metadata": {},
     "output_type": "execute_result"
    }
   ],
   "source": [
    "import numpy as np\n",
    "\n",
    "data = np.random.randint(20,50,30)\n",
    "\n",
    "reshaped_data = data.reshape(30,1)\n",
    "reshaped_data"
   ]
  },
  {
   "cell_type": "code",
   "execution_count": 3,
   "metadata": {},
   "outputs": [
    {
     "name": "stdout",
     "output_type": "stream",
     "text": [
      "Total Sales over 30 Days are  1053\n"
     ]
    }
   ],
   "source": [
    "#Total Sales\n",
    "\n",
    "sales = np.sum(reshaped_data)\n",
    "print(\"Total Sales over 30 Days are \",sales )"
   ]
  },
  {
   "cell_type": "code",
   "execution_count": 4,
   "metadata": {},
   "outputs": [
    {
     "name": "stdout",
     "output_type": "stream",
     "text": [
      "Average Sales of Data over 30 Days are  35.1\n"
     ]
    }
   ],
   "source": [
    "#Average Sales\n",
    "\n",
    "Avg_sales = np.mean(reshaped_data)\n",
    "print(\"Average Sales of Data over 30 Days are \", Avg_sales)"
   ]
  },
  {
   "cell_type": "code",
   "execution_count": 5,
   "metadata": {},
   "outputs": [
    {
     "name": "stdout",
     "output_type": "stream",
     "text": [
      "The day 11 had highest number of sales which were 48\n"
     ]
    }
   ],
   "source": [
    "#Highest Sales Day\n",
    "\n",
    "Highest_Sale = np.max(reshaped_data)\n",
    "\n",
    "day = np.argmax(reshaped_data) + 1\n",
    "print(f\"The day {day} had highest number of sales which were {Highest_Sale}\")\n"
   ]
  },
  {
   "cell_type": "markdown",
   "metadata": {},
   "source": [
    "Q2. Weather Data Processing: Given a 2D NumPy array where each row represents daily temperature readings for a week (7 days), find the average temperature for each day across all weeks.\n"
   ]
  },
  {
   "cell_type": "code",
   "execution_count": 6,
   "metadata": {},
   "outputs": [
    {
     "data": {
      "text/plain": [
       "array([[35, 28, 24],\n",
       "       [30, 32, 34],\n",
       "       [38, 21, 38],\n",
       "       [25, 34, 37],\n",
       "       [35, 30, 21],\n",
       "       [22, 21, 21],\n",
       "       [37, 30, 23]], dtype=int32)"
      ]
     },
     "execution_count": 6,
     "metadata": {},
     "output_type": "execute_result"
    }
   ],
   "source": [
    "#7 Days Temperature Data three readings each day\n",
    "data = np.random.randint(20,40,(7,3))\n",
    "data"
   ]
  },
  {
   "cell_type": "code",
   "execution_count": 7,
   "metadata": {},
   "outputs": [
    {
     "name": "stdout",
     "output_type": "stream",
     "text": [
      " Day 1 average temperature: 29\n",
      " Day 2 average temperature: 32\n",
      " Day 3 average temperature: 32\n",
      " Day 4 average temperature: 32\n",
      " Day 5 average temperature: 29\n",
      " Day 6 average temperature: 21\n",
      " Day 7 average temperature: 30\n"
     ]
    }
   ],
   "source": [
    "#Average Temperature of each day for alll seven days\n",
    "\n",
    "for i in range(len(data)):\n",
    "    \n",
    "    Days = data[i, :]\n",
    "    mean_sale = np.mean(Days)\n",
    "    \n",
    "    print(f\" Day {i+1} average temperature: {round(mean_sale)}\")\n"
   ]
  },
  {
   "cell_type": "markdown",
   "metadata": {},
   "source": [
    "Q3. Financial Analysis: You have a NumPy array representing the daily closing prices of a stock for a month. Calculate the monthly return, which is the percentage change from the first to the last day of the month.\n"
   ]
  },
  {
   "cell_type": "code",
   "execution_count": 8,
   "metadata": {},
   "outputs": [
    {
     "data": {
      "text/plain": [
       "array([92, 93, 99, 93, 90, 98, 92, 97, 95, 91, 99, 96, 97, 96, 91, 90, 94,\n",
       "       95, 93, 94, 92, 96, 90, 99, 98, 91, 99, 94, 94, 92], dtype=int32)"
      ]
     },
     "execution_count": 8,
     "metadata": {},
     "output_type": "execute_result"
    }
   ],
   "source": [
    "#Daily Closing Prices for 30 days\n",
    "\n",
    "closing_prices = np.random.randint(90,100, 30)\n",
    "closing_prices"
   ]
  },
  {
   "cell_type": "code",
   "execution_count": 9,
   "metadata": {},
   "outputs": [
    {
     "name": "stdout",
     "output_type": "stream",
     "text": [
      "The percentage monthly return is 0.0%\n"
     ]
    }
   ],
   "source": [
    "first_day_price = closing_prices[0]\n",
    "last_day_price = closing_prices[-1]\n",
    "\n",
    "monthly_return = ((last_day_price / first_day_price) - 1) * 100\n",
    "print(f\"The percentage monthly return is {monthly_return}%\")"
   ]
  },
  {
   "cell_type": "markdown",
   "metadata": {},
   "source": [
    "Q4. Student Grades Analysis: You have a 2D NumPy array where each row represents a student and each column represents their grades in different subjects. Calculate the average grade for each student and the overall class average for each subject.\n"
   ]
  },
  {
   "cell_type": "code",
   "execution_count": 10,
   "metadata": {},
   "outputs": [
    {
     "name": "stdout",
     "output_type": "stream",
     "text": [
      "[[80 78 87 76 96]\n",
      " [65 88 55 94 44]\n",
      " [68 99 49 68 59]\n",
      " [77 73 83 58 55]\n",
      " [42 68 56 53 63]\n",
      " [44 54 66 61 76]\n",
      " [90 53 55 47 48]\n",
      " [90 41 54 62 95]\n",
      " [84 91 82 52 82]\n",
      " [96 58 54 75 79]]\n"
     ]
    }
   ],
   "source": [
    "#2D Array with Grades 10 students\n",
    "\n",
    "Students_Grades = np.random.randint(40,100, (10,5))\n",
    "print(Students_Grades)"
   ]
  },
  {
   "cell_type": "code",
   "execution_count": 11,
   "metadata": {},
   "outputs": [
    {
     "name": "stdout",
     "output_type": "stream",
     "text": [
      " Student 1 average Grades: 83.4\n",
      " Student 2 average Grades: 69.2\n",
      " Student 3 average Grades: 68.6\n",
      " Student 4 average Grades: 69.2\n",
      " Student 5 average Grades: 56.4\n",
      " Student 6 average Grades: 60.2\n",
      " Student 7 average Grades: 58.6\n",
      " Student 8 average Grades: 68.4\n",
      " Student 9 average Grades: 78.2\n",
      " Student 10 average Grades: 72.4\n"
     ]
    }
   ],
   "source": [
    "#Average Grade of each student\n",
    "\n",
    "for i in range(len(Students_Grades)):\n",
    "    \n",
    "    Students = Students_Grades[i, :]\n",
    "    Avg_Grades = np.mean(Students)\n",
    "    \n",
    "    print(f\" Student {i+1} average Grades: {Avg_Grades}\")"
   ]
  },
  {
   "cell_type": "code",
   "execution_count": 12,
   "metadata": {},
   "outputs": [
    {
     "name": "stdout",
     "output_type": "stream",
     "text": [
      " Subject 1 average Grade: 74\n",
      " Subject 2 average Grade: 69\n",
      " Subject 3 average Grade: 62\n",
      " Subject 4 average Grade: 58\n",
      " Subject 5 average Grade: 74\n"
     ]
    }
   ],
   "source": [
    "#Overall Class average of each subject\n",
    "\n",
    "for i in range(len(Students_Grades[0,:])):\n",
    "    \n",
    "    Subject = Students_Grades[i:, i]\n",
    "    S_Avg_Grades = np.mean(Subject)\n",
    "    \n",
    "    print(f\" Subject {i+1} average Grade: {round(S_Avg_Grades)}\")"
   ]
  },
  {
   "cell_type": "markdown",
   "metadata": {},
   "source": [
    "Q5. Image Processing: You have a grayscale image represented as a 2D NumPy array of pixel intensities. Normalize the pixel values to a range of 0 to 1.\n"
   ]
  },
  {
   "cell_type": "code",
   "execution_count": 13,
   "metadata": {},
   "outputs": [
    {
     "data": {
      "text/plain": [
       "array([[0.225, 0.05 , 0.925, 1.   , 0.1  , 0.725, 0.325, 0.95 , 0.825,\n",
       "        0.775],\n",
       "       [0.575, 0.275, 0.875, 0.9  , 0.225, 0.775, 0.95 , 0.825, 0.55 ,\n",
       "        0.95 ],\n",
       "       [0.9  , 0.7  , 0.625, 0.775, 0.55 , 0.425, 0.375, 0.8  , 0.8  ,\n",
       "        0.225],\n",
       "       [0.825, 1.   , 0.3  , 0.9  , 0.575, 0.55 , 0.275, 0.925, 0.375,\n",
       "        0.175],\n",
       "       [0.975, 0.925, 0.4  , 0.25 , 0.525, 0.35 , 0.05 , 0.8  , 0.325,\n",
       "        0.35 ],\n",
       "       [0.275, 0.025, 0.175, 0.05 , 0.675, 0.7  , 0.425, 0.525, 0.15 ,\n",
       "        0.55 ],\n",
       "       [0.5  , 0.175, 0.475, 0.3  , 0.6  , 0.375, 0.975, 0.925, 0.75 ,\n",
       "        0.275],\n",
       "       [0.4  , 0.15 , 0.55 , 0.1  , 0.125, 0.725, 0.125, 0.175, 0.525,\n",
       "        0.225],\n",
       "       [0.975, 0.55 , 0.8  , 0.45 , 0.075, 0.1  , 0.   , 0.925, 0.025,\n",
       "        0.275],\n",
       "       [0.075, 0.225, 0.475, 0.725, 0.375, 0.4  , 0.75 , 0.85 , 0.3  ,\n",
       "        0.7  ]])"
      ]
     },
     "execution_count": 13,
     "metadata": {},
     "output_type": "execute_result"
    }
   ],
   "source": [
    "\n",
    "# 2D NumPy array \n",
    "image = np.random.randint(1,42, (10,10))\n",
    "\n",
    "# Normalizing the pixel values to a range of 0 to 1 (Formula given by Chat-GPT)\n",
    "min_val = np.min(image)\n",
    "max_val = np.max(image)\n",
    "\n",
    "normalized_image = (image - min_val) / (max_val - min_val)\n",
    "normalized_image"
   ]
  },
  {
   "cell_type": "markdown",
   "metadata": {},
   "source": [
    "Q6. Population Growth Analysis: You have a NumPy array representing the population of a city over 10 years. Calculate the annual growth rate and identify the year with the highest growth.\n"
   ]
  },
  {
   "cell_type": "code",
   "execution_count": 14,
   "metadata": {},
   "outputs": [
    {
     "name": "stdout",
     "output_type": "stream",
     "text": [
      "Growth rate of each year\n",
      "[[5. ]\n",
      " [6.7]\n",
      " [5.4]\n",
      " [5.9]\n",
      " [4. ]\n",
      " [7.7]\n",
      " [7.1]\n",
      " [6.7]\n",
      " [9.4]]\n",
      "The Highest growth rate was 9.375 and the year was 9\n"
     ]
    }
   ],
   "source": [
    "population = np.array([1000, 1050, 1120, 1180, 1250, 1300, 1400, 1500, 1600, 1750])\n",
    "\n",
    "# Annual growth rates\n",
    "growth_rates = np.diff(population) / population[:-1] * 100\n",
    "\n",
    "# Year with the highest growth\n",
    "highest_growth = np.max(growth_rates)\n",
    "highest_growth_year = np.argmax(growth_rates) + 1  \n",
    "\n",
    "growth_rates = growth_rates.reshape(9,1)\n",
    "\n",
    "print(\"Growth rate of each year\")\n",
    "print(np.round(growth_rates,1))\n",
    "print(f\"The Highest growth rate was {highest_growth} and the year was {highest_growth_year}\")\n"
   ]
  },
  {
   "cell_type": "markdown",
   "metadata": {},
   "source": [
    "Q7.Traffic Data Analysis: Given a 2D NumPy array where each row represents the number of vehicles passing through a checkpoint in different hours of the day over a week, calculate the total traffic for each day and the busiest hour of the week.\n"
   ]
  },
  {
   "cell_type": "code",
   "execution_count": 15,
   "metadata": {},
   "outputs": [
    {
     "data": {
      "text/plain": [
       "array([[374, 313, 268,  93, 321],\n",
       "       [ 91, 374, 322, 427, 262],\n",
       "       [394, 184, 325, 152,  82],\n",
       "       [ 60,  75, 398, 453, 271],\n",
       "       [110, 315, 117, 184,  69],\n",
       "       [145, 297, 445, 384, 298],\n",
       "       [181, 271, 100, 421,  57]], dtype=int32)"
      ]
     },
     "execution_count": 15,
     "metadata": {},
     "output_type": "execute_result"
    }
   ],
   "source": [
    "#Vehicles ranging from 50 to 500 and 7 rows for 7 days and 5 time frames (9AM, 12PM, 3PM, 6PM, 9PM)\n",
    "\n",
    "traffic = np.random.randint(50, 500, (7,5))\n",
    "traffic"
   ]
  },
  {
   "cell_type": "code",
   "execution_count": 16,
   "metadata": {},
   "outputs": [
    {
     "name": "stdout",
     "output_type": "stream",
     "text": [
      "Day 1 total traffic 1369\n",
      "Day 2 total traffic 1476\n",
      "Day 3 total traffic 1137\n",
      "Day 4 total traffic 1257\n",
      "Day 5 total traffic 795\n",
      "Day 6 total traffic 1569\n",
      "Day 7 total traffic 1030\n"
     ]
    }
   ],
   "source": [
    "#Total traffic for each day\n",
    "\n",
    "for i in range(len(traffic)):\n",
    "    total_traffic = np.sum(traffic[i, :])\n",
    "    print(f\"Day {i+1} total traffic {total_traffic}\")"
   ]
  },
  {
   "cell_type": "code",
   "execution_count": 17,
   "metadata": {},
   "outputs": [
    {
     "name": "stdout",
     "output_type": "stream",
     "text": [
      " Busiest Hour was 6PM with 453 vehicles passed\n"
     ]
    }
   ],
   "source": [
    "#Busiest hour of the week\n",
    "\n",
    "busiest_hour_traffic = np.max(traffic)\n",
    "busiest_hour = np.argmax(traffic) + 1\n",
    "\n",
    "\n",
    "if busiest_hour in [1,6,11,16,21,26,31]:\n",
    "     \n",
    "    print(f\" Busiest Hour was 9AM with {busiest_hour_traffic} vehicles passed\" )\n",
    "\n",
    "elif busiest_hour in [2,7,12,17,22,27,32]:\n",
    "        print(f\" Busiest Hour was 12PM with {busiest_hour_traffic} vehicles passed\" )\n",
    "\n",
    "elif busiest_hour in [3,8,13,18,23,28,33]:\n",
    "        print(f\" Busiest Hour was 3PM with {busiest_hour_traffic} vehicles passed\" )\n",
    "\n",
    "elif busiest_hour in [4,9,14,19,24,29,34]:\n",
    "        print(f\" Busiest Hour was 6PM with {busiest_hour_traffic} vehicles passed\" )\n",
    "\n",
    "elif busiest_hour in [5,10,15,20,25,30,35]:\n",
    "        print(f\" Busiest Hour was 9PM with {busiest_hour_traffic} vehicles passed\" )\n",
    "        \n"
   ]
  },
  {
   "cell_type": "code",
   "execution_count": 18,
   "metadata": {},
   "outputs": [
    {
     "name": "stdout",
     "output_type": "stream",
     "text": [
      "Busiest Hour was On day 4, 6PM with 453 vehicles passed\n"
     ]
    }
   ],
   "source": [
    "#Busiest hour of the week\n",
    "\n",
    "busiest_hour_traffic = np.max(traffic)\n",
    "busiest_hour = np.argmax(traffic) + 1\n",
    "\n",
    "AM_9 = [1,6,11,16,21,26,31]\n",
    "PM_12 = [2,7,12,17,22,27,32]\n",
    "PM_3 = [3,8,13,18,23,28,33]\n",
    "PM_6 = [4,9,14,19,24,29,34]\n",
    "PM_9 = [5,10,15,20,25,30,35]\n",
    "\n",
    "#For 9AM\n",
    "if busiest_hour in AM_9:\n",
    "    for i in AM_9:\n",
    "           if i == busiest_hour:\n",
    "                  day = AM_9.index(i) +1\n",
    "     \n",
    "    print(f\"Busiest Hour was On day {day}, 9AM with {busiest_hour_traffic} vehicles passed\" )\n",
    "\n",
    "#For 12PM\n",
    "elif busiest_hour in PM_12:\n",
    "        for i in PM_12:\n",
    "           if i == busiest_hour:\n",
    "                  day = PM_12.index(i) +1\n",
    "        print(f\"Busiest Hour was On day {day}, 12PM with {busiest_hour_traffic} vehicles passed\" )\n",
    "\n",
    "#For 3PM\n",
    "elif busiest_hour in PM_3:\n",
    "        for i in PM_3:\n",
    "           if i == busiest_hour:\n",
    "                  day = PM_3.index(i) +1\n",
    "        print(f\"Busiest Hour was On day {day}, 3PM with {busiest_hour_traffic} vehicles passed\" )\n",
    "\n",
    "#For 6PM\n",
    "elif busiest_hour in PM_6:\n",
    "        for i in PM_6:\n",
    "           if i == busiest_hour:\n",
    "                  day = PM_6.index(i) +1\n",
    "        print(f\"Busiest Hour was On day {day}, 6PM with {busiest_hour_traffic} vehicles passed\" )\n",
    "\n",
    "#For 9PM\n",
    "elif busiest_hour in PM_9:\n",
    "        for i in PM_9:\n",
    "           if i == busiest_hour:\n",
    "                  day = PM_9.index(i) +1\n",
    "        print(f\"Busiest Hour was On day {day}, 9PM with {busiest_hour_traffic} vehicles passed\" )\n",
    "        \n"
   ]
  },
  {
   "cell_type": "markdown",
   "metadata": {},
   "source": [
    "Q8. Product Inventory Management: You have a NumPy array representing the stock levels of different products in a warehouse. Reorder the products with stock levels below a threshold (e.g., 50 units).\n"
   ]
  },
  {
   "cell_type": "code",
   "execution_count": 19,
   "metadata": {},
   "outputs": [
    {
     "name": "stdout",
     "output_type": "stream",
     "text": [
      "[27 42 73 34 82 20 64 22 27 45]\n",
      "[27 42 34 20 22 27 45]\n"
     ]
    }
   ],
   "source": [
    "#Creating a random stock of range 20-100 with 10 items\n",
    "stock_levels = np.random.randint(20,100,10)\n",
    "\n",
    "print(stock_levels)\n",
    "\n",
    "products_to_reorder = stock_levels[stock_levels < 50]\n",
    "\n",
    "# Print the products that need to be reordered\n",
    "print(products_to_reorder)\n"
   ]
  },
  {
   "cell_type": "markdown",
   "metadata": {},
   "source": [
    "Q9. Game Score Analysis: You have a NumPy array representing the scores of different players in a game over multiple rounds. Identify the player with the highest average score and the round with the highest total score.\n"
   ]
  },
  {
   "cell_type": "code",
   "execution_count": 20,
   "metadata": {},
   "outputs": [
    {
     "data": {
      "text/plain": [
       "array([[90, 66, 22],\n",
       "       [28, 34, 25],\n",
       "       [11, 76,  9],\n",
       "       [80, 18, 21],\n",
       "       [91, 42, 87]], dtype=int32)"
      ]
     },
     "execution_count": 20,
     "metadata": {},
     "output_type": "execute_result"
    }
   ],
   "source": [
    "# Creating Random game scores of 5 players in 3 rounds.\n",
    "\n",
    "scores = np.random.randint(0,100, (5,3))\n",
    "scores"
   ]
  },
  {
   "cell_type": "code",
   "execution_count": 21,
   "metadata": {},
   "outputs": [
    {
     "data": {
      "text/plain": [
       "array([[59.],\n",
       "       [29.],\n",
       "       [32.],\n",
       "       [40.],\n",
       "       [73.]])"
      ]
     },
     "execution_count": 21,
     "metadata": {},
     "output_type": "execute_result"
    }
   ],
   "source": [
    "#Calculating highest average_scores\n",
    "average_scores = np.mean(scores, axis=1)\n",
    "\n",
    "average_scores = np.reshape(average_scores, (5,1))\n",
    "average_scores = np.round(average_scores)\n",
    "average_scores"
   ]
  },
  {
   "cell_type": "code",
   "execution_count": 22,
   "metadata": {},
   "outputs": [
    {
     "name": "stdout",
     "output_type": "stream",
     "text": [
      "Player 5 has the highest average score\n"
     ]
    }
   ],
   "source": [
    "#Player with highest average score\n",
    "\n",
    "player = np.argmax(average_scores) + 1\n",
    "print(f\"Player {player} has the highest average score\")"
   ]
  },
  {
   "cell_type": "code",
   "execution_count": 23,
   "metadata": {},
   "outputs": [
    {
     "data": {
      "text/plain": [
       "array([300, 236, 164])"
      ]
     },
     "execution_count": 23,
     "metadata": {},
     "output_type": "execute_result"
    }
   ],
   "source": [
    "#Total Scores each round\n",
    "total_scores_per_round = np.sum(scores, axis=0)\n",
    "total_scores_per_round"
   ]
  },
  {
   "cell_type": "code",
   "execution_count": 24,
   "metadata": {},
   "outputs": [
    {
     "name": "stdout",
     "output_type": "stream",
     "text": [
      "Round 1 had the highest total scores\n"
     ]
    }
   ],
   "source": [
    "#Round with the highest total scores\n",
    "\n",
    "round = np.argmax(total_scores_per_round) + 1\n",
    "print(f\"Round {round} had the highest total scores\")"
   ]
  },
  {
   "cell_type": "markdown",
   "metadata": {},
   "source": [
    "Q10. Financial Portfolio Analysis: You have a NumPy array representing the daily returns of different assets in a financial portfolio over a month. Calculate the portfolio's overall daily return, and identify the asset with the highest volatility."
   ]
  },
  {
   "cell_type": "code",
   "execution_count": 26,
   "metadata": {},
   "outputs": [
    {
     "data": {
      "text/plain": [
       "array([[0.64180603, 0.56566614, 0.58014531, 0.10054941, 0.39548366],\n",
       "       [0.85844703, 0.22361914, 0.86040662, 0.56243947, 0.19049167],\n",
       "       [0.01191932, 0.65118369, 0.51525658, 0.50117637, 0.43939686],\n",
       "       [0.02827889, 0.9844519 , 0.17855821, 0.10745842, 0.58668139],\n",
       "       [0.99353365, 0.59792112, 0.20248066, 0.70646158, 0.00267355],\n",
       "       [0.32222774, 0.06588342, 0.31376304, 0.27501755, 0.27846587],\n",
       "       [0.96649801, 0.91066255, 0.52308988, 0.15401399, 0.74329822],\n",
       "       [0.45721978, 0.8103861 , 0.80789825, 0.53663433, 0.58316919],\n",
       "       [0.92714659, 0.06906212, 0.98592479, 0.13086673, 0.48625653],\n",
       "       [0.73093739, 0.19442171, 0.04245351, 0.78152002, 0.27593123],\n",
       "       [0.36932475, 0.13566862, 0.94747918, 0.63069999, 0.97051148],\n",
       "       [0.12194089, 0.191858  , 0.41407754, 0.81068987, 0.66962687],\n",
       "       [0.85985694, 0.32434309, 0.3023862 , 0.42729033, 0.58539512],\n",
       "       [0.07325946, 0.94677974, 0.5927385 , 0.36360494, 0.18001242],\n",
       "       [0.83701339, 0.8956208 , 0.36750559, 0.80617386, 0.92414223],\n",
       "       [0.29723272, 0.816651  , 0.19220672, 0.35154759, 0.3495876 ],\n",
       "       [0.55659402, 0.02800575, 0.74879303, 0.17517613, 0.46298139],\n",
       "       [0.97072993, 0.71398188, 0.57501162, 0.71965354, 0.31920838],\n",
       "       [0.49190709, 0.75581757, 0.79097633, 0.81156097, 0.3920317 ],\n",
       "       [0.19303114, 0.23398494, 0.00200384, 0.26990415, 0.37985405],\n",
       "       [0.38154154, 0.31260803, 0.6641148 , 0.13333133, 0.81518833],\n",
       "       [0.24158184, 0.85792819, 0.95245847, 0.41263103, 0.70584641],\n",
       "       [0.89169301, 0.25016879, 0.88672197, 0.9626902 , 0.5121017 ],\n",
       "       [0.57205157, 0.91087457, 0.70308191, 0.76742732, 0.92170909],\n",
       "       [0.75574566, 0.57776177, 0.19378376, 0.20256728, 0.47662902],\n",
       "       [0.53232331, 0.72942573, 0.98157627, 0.06590873, 0.66793279],\n",
       "       [0.86049581, 0.40774093, 0.59091213, 0.29031826, 0.81142045],\n",
       "       [0.80175828, 0.82791341, 0.82996276, 0.94898982, 0.35873679],\n",
       "       [0.98974518, 0.21456951, 0.13300342, 0.18932592, 0.74576406],\n",
       "       [0.10531895, 0.18088532, 0.95220193, 0.7253968 , 0.16448629]])"
      ]
     },
     "execution_count": 26,
     "metadata": {},
     "output_type": "execute_result"
    }
   ],
   "source": [
    "# Array representing the daily returns of different assets over a month\n",
    "daily_returns = np.random.random((30,5))\n",
    "daily_returns"
   ]
  },
  {
   "cell_type": "code",
   "execution_count": 29,
   "metadata": {},
   "outputs": [
    {
     "name": "stdout",
     "output_type": "stream",
     "text": [
      "Overall daily return of the portfolio:\n",
      "[0.561372   0.51286152 0.56103243 0.4640342  0.51316714]\n",
      "\n",
      "Asset with the highest volatility: Asset 9\n",
      "Highest volatility (standard deviation of returns): 0.3844\n"
     ]
    }
   ],
   "source": [
    "\n",
    "\n",
    "# overall daily return for the portfolio\n",
    "overall_daily_return = np.mean(daily_returns, axis=0)\n",
    "\n",
    "# volatility (standard deviation) for each asset\n",
    "volatility = np.std(daily_returns, axis=1)\n",
    "\n",
    "# Identifying the asset with the highest volatility\n",
    "highest_volatility_index = np.argmax(volatility)\n",
    "highest_volatility = volatility[highest_volatility_index]\n",
    "\n",
    "# Step 5: Print the results\n",
    "print(\"Overall daily return of the portfolio:\")\n",
    "print(overall_daily_return)\n",
    "print(\"\\nAsset with the highest volatility: Asset {}\".format(highest_volatility_index + 1))\n",
    "print(\"Highest volatility (standard deviation of returns): {:.4f}\".format(highest_volatility))\n"
   ]
  },
  {
   "cell_type": "markdown",
   "metadata": {},
   "source": [
    "_________________________________________________________________________________________________________________________________________________\n",
    "<Center>The End of Scenario Assignment </Center>"
   ]
  }
 ],
 "metadata": {
  "kernelspec": {
   "display_name": "Python 3",
   "language": "python",
   "name": "python3"
  },
  "language_info": {
   "codemirror_mode": {
    "name": "ipython",
    "version": 3
   },
   "file_extension": ".py",
   "mimetype": "text/x-python",
   "name": "python",
   "nbconvert_exporter": "python",
   "pygments_lexer": "ipython3",
   "version": "3.11.7"
  }
 },
 "nbformat": 4,
 "nbformat_minor": 2
}
